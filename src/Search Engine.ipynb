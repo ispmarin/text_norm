{
 "cells": [
  {
   "cell_type": "markdown",
   "metadata": {},
   "source": [
    "# Search using Whoosh\n",
    "\n",
    "We will use Whoosh, a search engine with Python, to retrieve a few candidates. The search engine is already doing some parsing, but with a more complex problem we can use it for a few fields."
   ]
  },
  {
   "cell_type": "code",
   "execution_count": 12,
   "metadata": {
    "collapsed": true
   },
   "outputs": [],
   "source": [
    "from retrieve.search import *"
   ]
  },
  {
   "cell_type": "markdown",
   "metadata": {},
   "source": [
    "This will be our canonical database for the addresses:"
   ]
  },
  {
   "cell_type": "code",
   "execution_count": 20,
   "metadata": {
    "collapsed": true
   },
   "outputs": [],
   "source": [
    "doc1 = {\n",
    "    'street': 'XV de novembro',\n",
    "    'number': 123,\n",
    "    'complement': 'bloco 22',\n",
    "    'cep': '02837-223',\n",
    "    'city': 'São Paulo'\n",
    "}\n",
    "doc2 = {\n",
    "    'street': 'XV de piracicaba',\n",
    "    'number': 123,\n",
    "    'cep': '02833-023',\n",
    "    'city': 'São Paulo'\n",
    "}\n",
    "\n",
    "doc3 = {\n",
    "    'street': 'Grande marcha de novembro',\n",
    "    'number': 123,\n",
    "    'complement': 'bloco 22',\n",
    "    'cep': '02833-023',\n",
    "    'city': 'São Paulo'\n",
    "}\n",
    "\n",
    "doc4 = {\n",
    "    'street': 'XV de novembro',\n",
    "    'number': 123,\n",
    "    'complement': 'bloco 23 A',\n",
    "    'cep': '02837-223',\n",
    "    'city': 'São Paulo'\n",
    "}"
   ]
  },
  {
   "cell_type": "markdown",
   "metadata": {},
   "source": [
    "All documents that we have available:"
   ]
  },
  {
   "cell_type": "code",
   "execution_count": 23,
   "metadata": {
    "collapsed": false
   },
   "outputs": [
    {
     "name": "stdout",
     "output_type": "stream",
     "text": [
      "{'number': 123, 'city': 'São Paulo', 'cep': '02833-023', 'complement': 'bloco 22', 'street': 'pindamonhangaba'}\n",
      "{'number': 123, 'city': 'São Paulo', 'complement': 'bloco 22', 'cep': '02833-023', 'street': 'pindamonhangaba'}\n",
      "{'number': 123, 'city': 'São Paulo', 'cep': '02833-023', 'complement': 'bloco 22', 'street': 'pindamonhangaba'}\n",
      "{'number': 123, 'city': 'São Paulo', 'complement': 'bloco 22', 'cep': '02837-223', 'street': 'XV de novembro'}\n",
      "{'number': 123, 'city': 'São Paulo', 'cep': '02833-023', 'street': 'XV de piracicaba'}\n",
      "{'number': 123, 'city': 'São Paulo', 'complement': 'bloco 22', 'cep': '02833-023', 'street': 'Grande marcha de novembro'}\n",
      "{'number': 123, 'city': 'São Paulo', 'complement': 'bloco 23 A', 'cep': '02837-223', 'street': 'XV de novembro'}\n"
     ]
    }
   ],
   "source": [
    "for doc in all_documents(idx):\n",
    "    print(doc)"
   ]
  },
  {
   "cell_type": "markdown",
   "metadata": {},
   "source": [
    "What happens when we search for a string, like `novembro`?"
   ]
  },
  {
   "cell_type": "code",
   "execution_count": 22,
   "metadata": {
    "collapsed": false
   },
   "outputs": [
    {
     "name": "stdout",
     "output_type": "stream",
     "text": [
      "[9, 11, 12]\n",
      "[{'number': 123, 'city': 'São Paulo', 'cep': '02837-223', 'complement': 'bloco 22', 'street': 'XV de novembro'}, {'number': 123, 'city': 'São Paulo', 'cep': '02837-223', 'complement': 'bloco 23 A', 'street': 'XV de novembro'}, {'number': 123, 'city': 'São Paulo', 'cep': '02833-023', 'complement': 'bloco 22', 'street': 'Grande marcha de novembro'}]\n"
     ]
    }
   ],
   "source": [
    "schema = create_schema()\n",
    "idx = create_index(schema, 'indexdir')\n",
    "add_documents([doc4], idx)\n",
    "results = search('novembro', 'street', idx)\n",
    "print(results)"
   ]
  },
  {
   "cell_type": "code",
   "execution_count": null,
   "metadata": {
    "collapsed": true
   },
   "outputs": [],
   "source": []
  }
 ],
 "metadata": {
  "kernelspec": {
   "display_name": "Python 3",
   "language": "python",
   "name": "python3"
  },
  "language_info": {
   "codemirror_mode": {
    "name": "ipython",
    "version": 3
   },
   "file_extension": ".py",
   "mimetype": "text/x-python",
   "name": "python",
   "nbconvert_exporter": "python",
   "pygments_lexer": "ipython3",
   "version": "3.4.3"
  }
 },
 "nbformat": 4,
 "nbformat_minor": 0
}
